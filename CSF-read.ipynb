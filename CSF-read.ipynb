{
 "cells": [
  {
   "cell_type": "code",
   "execution_count": 222,
   "metadata": {
    "collapsed": false
   },
   "outputs": [],
   "source": [
    "import numpy as np\n",
    "import matplotlib \n",
    "import matplotlib.pyplot as plt\n",
    "import matplotlib.backends.backend_pdf as pltSave\n",
    "import matplotlib.ticker as ticker\n",
    "import helper_fcns as hlp\n",
    "import autoreload\n",
    "import os\n",
    "from scipy.stats import norm, wilcoxon\n",
    "matplotlib.style.use('plt_style.mplstyle')\n",
    "%matplotlib inline"
   ]
  },
  {
   "cell_type": "code",
   "execution_count": 223,
   "metadata": {
    "collapsed": false
   },
   "outputs": [],
   "source": [
    "autoreload.reload(hlp);"
   ]
  },
  {
   "cell_type": "markdown",
   "metadata": {},
   "source": [
    "Set the parameters for the data you want"
   ]
  },
  {
   "cell_type": "code",
   "execution_count": 270,
   "metadata": {
    "collapsed": false
   },
   "outputs": [],
   "source": [
    "dataDir = 'data/CSF/';\n",
    "saveDir = dataDir + 'results/';\n",
    "subj = 1;\n",
    "disp = 1;\n",
    "conv_sf = lambda s: 1e-2*float(s); # 1e-2 becuase I zero pad the string...\n",
    "\n",
    "sfList = [];\n",
    "dataMat = [];"
   ]
  },
  {
   "cell_type": "markdown",
   "metadata": {},
   "source": [
    "Get the data"
   ]
  },
  {
   "cell_type": "code",
   "execution_count": 277,
   "metadata": {
    "collapsed": true
   },
   "outputs": [],
   "source": [
    "dataList = os.listdir(dataDir);\n",
    "\n",
    "for entry in dataList:\n",
    "    if entry.startswith('csf') and entry.endswith('txt'):\n",
    "        # find subject, dispersion, sf\n",
    "        disp_curr = int(entry[entry.find('_d')+2]); # + 1 for zero index, +1 for getting the following integer\n",
    "        subj_start = entry.find('_s')+ 2;\n",
    "        subj_curr = int(entry[subj_start:subj_start+2])\n",
    "        sf_start = entry.find('_sf') + 3; # add 3 to skip the _sf\n",
    "        sf_curr = np.round(conv_sf(entry[sf_start : sf_start + 4]), 2) # 4 characters long\n",
    "        \n",
    "        if disp == disp_curr and subj == subj_curr:\n",
    "            curr_data = np.loadtxt(dataDir + entry);\n",
    "            if sf_curr in sfList: # just add the new data\n",
    "                sfInd = sfList.index(sf_curr);\n",
    "                dataMat[sfInd] = np.concatenate((dataMat[sfInd], curr_data));\n",
    "            else:\n",
    "                sfList.append(np.round(sf_curr, 2));\n",
    "                dataMat.append(curr_data);"
   ]
  },
  {
   "cell_type": "markdown",
   "metadata": {},
   "source": [
    "How to index the data"
   ]
  },
  {
   "cell_type": "code",
   "execution_count": 84,
   "metadata": {
    "collapsed": true
   },
   "outputs": [],
   "source": [
    "conIdx = 0;\n",
    "respIdx = 1;\n",
    "corrIdx = 2;\n",
    "oddGratIdx = 3; # is the oddball a grating?\n",
    "oddPosIdx = 4; # what position is the oddball?"
   ]
  },
  {
   "cell_type": "markdown",
   "metadata": {},
   "source": [
    "### Now let's analyze the data"
   ]
  },
  {
   "cell_type": "markdown",
   "metadata": {},
   "source": [
    "Find number of trials/responses at each unique contrast level; find contrast/staircase reversals"
   ]
  },
  {
   "cell_type": "code",
   "execution_count": 199,
   "metadata": {
    "collapsed": false
   },
   "outputs": [],
   "source": [
    "hm = np.where(np.sign(ex[:-1]) != np.sign(ex[1:]))[0] + 1"
   ]
  },
  {
   "cell_type": "code",
   "execution_count": 203,
   "metadata": {
    "collapsed": true
   },
   "outputs": [],
   "source": [
    "conVals = [];\n",
    "corrVals = [];\n",
    "nTrVals = [];\n",
    "revIdVals = [];"
   ]
  },
  {
   "cell_type": "code",
   "execution_count": 204,
   "metadata": {
    "collapsed": false
   },
   "outputs": [],
   "source": [
    "for i in range(len(dataMat)):\n",
    "    \n",
    "    uniqueCons = np.unique(dataMat[i][:, conIdx]);\n",
    "    conVals.append(uniqueCons);\n",
    "    corrVals.append(np.zeros(uniqueCons.shape))\n",
    "    nTrVals.append(np.zeros(uniqueCons.shape))\n",
    "    for c in range(len(uniqueCons)):\n",
    "        conInds = dataMat[i][:, conIdx] == uniqueCons[c];\n",
    "        nTrVals[i][c] = sum(conInds)\n",
    "        corrVals[i][c] = sum(dataMat[i][conInds, corrIdx]);\n",
    "        \n",
    "    # find reversals - when does difference in contrast between adjacent steps change sign\n",
    "    diffs = np.diff(dataMat[i][:, conIdx]);\n",
    "    revIds = np.where(np.sign(diffs[:-1]) != np.sign(ex[1:]))[0] + 1;\n",
    "    revIdVals.append(revIds);"
   ]
  },
  {
   "cell_type": "markdown",
   "metadata": {},
   "source": [
    "Look at the psychometric functions - incomplete/non-ideal, since we used staircase method"
   ]
  },
  {
   "cell_type": "code",
   "execution_count": 205,
   "metadata": {
    "collapsed": false
   },
   "outputs": [
    {
     "data": {
      "image/png": "[encoded data removed]",
      "text/plain": [
       "<matplotlib.figure.Figure at 0x1192d7b38>"
      ]
     },
     "metadata": {},
     "output_type": "display_data"
    }
   ],
   "source": [
    "dInd = 8;\n",
    "plt.semilogx(1e-2*conVals[dInd], np.divide(corrVals[dInd], nTrVals[dInd]));\n",
    "plt.xlabel('Contrast');\n",
    "plt.ylabel('% correct')\n",
    "plt.title('CSF - SF ' + str(sfList[dInd]) + ' cpd');"
   ]
  },
  {
   "cell_type": "markdown",
   "metadata": {},
   "source": [
    "Now, let's find the contrast reversals"
   ]
  },
  {
   "cell_type": "code",
   "execution_count": 229,
   "metadata": {
    "collapsed": false
   },
   "outputs": [],
   "source": [
    "throwFirstN = 2; # throw away the first N contrast reversals\n",
    "thresh = np.zeros((len(dataMat), 1))\n",
    "threshAlt = np.zeros((len(dataMat), 1))\n",
    "for ds in range(len(dataMat)):\n",
    "    revCons = dataMat[ds][revIdVals[ds][throwFirstN:], conIdx];\n",
    "    thresh[ds] = hlp.geo_mean(revCons)\n",
    "    threshAlt[ds] = np.mean(revCons);"
   ]
  },
  {
   "cell_type": "markdown",
   "metadata": {},
   "source": [
    "### Plot the CSF"
   ]
  },
  {
   "cell_type": "code",
   "execution_count": 235,
   "metadata": {
    "collapsed": false
   },
   "outputs": [
    {
     "data": {
      "image/png": "[encoded data removed]",
      "text/plain": [
       "<matplotlib.figure.Figure at 0x119a654a8>"
      ]
     },
     "metadata": {},
     "output_type": "display_data"
    }
   ],
   "source": [
    "plt.loglog(sfList, 1/(1e-2*thresh));\n",
    "plt.loglog(sfList, 1/(1e-2*threshAlt));\n",
    "plt.title('Contrast sensitivity function');\n",
    "plt.xlabel('sf (cpd)');\n",
    "plt.ylabel('Contrast sensitivity');\n",
    "plt.legend(['mean', 'geomean']);"
   ]
  }
 ],
 "metadata": {
  "kernelspec": {
   "display_name": "Python 3",
   "language": "python",
   "name": "python3"
  },
  "language_info": {
   "codemirror_mode": {
    "name": "ipython",
    "version": 3
   },
   "file_extension": ".py",
   "mimetype": "text/x-python",
   "name": "python",
   "nbconvert_exporter": "python",
   "pygments_lexer": "ipython3",
   "version": "3.6.0"
  }
 },
 "nbformat": 4,
 "nbformat_minor": 2
}
