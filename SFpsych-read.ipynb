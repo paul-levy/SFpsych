{
 "cells": [
  {
   "cell_type": "code",
   "execution_count": 1,
   "metadata": {
    "collapsed": false
   },
   "outputs": [],
   "source": [
    "import numpy as np\n",
    "import matplotlib \n",
    "import matplotlib.pyplot as plt\n",
    "import helper_fcns as hlp\n",
    "import autoreload\n",
    "from scipy.stats import norm, wilcoxon\n",
    "matplotlib.style.use('plt_style.mplstyle')\n",
    "%matplotlib inline"
   ]
  },
  {
   "cell_type": "code",
   "execution_count": 2,
   "metadata": {
    "collapsed": true
   },
   "outputs": [],
   "source": [
    "dataDir = 'data/';\n",
    "whichFiles = 'toAnalyzeD1.txt';\n",
    "dataList = open(dataDir + whichFiles, 'r')\n",
    "dFilesAll = dataList.readlines(-1)\n",
    "dFilesAll = [x.strip('\\n') for x in dFilesAll]\n",
    "dataList.close()"
   ]
  },
  {
   "cell_type": "code",
   "execution_count": 3,
   "metadata": {
    "collapsed": false
   },
   "outputs": [],
   "source": [
    "#dFiles = dFilesAll;\n",
    "dFiles = dFilesAll[4:] # ignore the first 4 sessions - early training"
   ]
  },
  {
   "cell_type": "code",
   "execution_count": 4,
   "metadata": {
    "collapsed": true
   },
   "outputs": [],
   "source": [
    "sfIdx = 0;\n",
    "conIdx = 1;\n",
    "dispIdx = 2;\n",
    "nInd = 3; # 3 indices per stimulus; add 3 to all of the above indices to get the equivalent value for the second stimulus\n",
    "subjRespIdx = 2*nInd;\n",
    "refIdx = subjRespIdx + 1; # which interval contained reference is after the subject's response in the data format"
   ]
  },
  {
   "cell_type": "code",
   "execution_count": 5,
   "metadata": {
    "collapsed": true
   },
   "outputs": [],
   "source": [
    "stim1 = 39; stim2 = 41; # subject responses (asked which stimulus has higher SF)"
   ]
  },
  {
   "cell_type": "code",
   "execution_count": 6,
   "metadata": {
    "collapsed": false
   },
   "outputs": [
    {
     "name": "stdout",
     "output_type": "stream",
     "text": [
      "Adding 150 trials\n",
      "Adding 150 trials\n",
      "Adding 150 trials\n",
      "Adding 150 trials\n",
      "Adding 150 trials\n",
      "Adding 150 trials\n",
      "Adding 150 trials\n",
      "Adding 150 trials\n",
      "Adding 150 trials\n",
      "Adding 150 trials\n",
      "Adding 150 trials\n",
      "Adding 150 trials\n",
      "Adding 150 trials\n",
      "Adding 150 trials\n",
      "Adding 150 trials\n",
      "Adding 150 trials\n",
      "Adding 150 trials\n",
      "Adding 150 trials\n",
      "Adding 150 trials\n",
      "Adding 150 trials\n",
      "Adding 150 trials\n",
      "Adding 150 trials\n"
     ]
    }
   ],
   "source": [
    "data = [];\n",
    "for df in dFiles:\n",
    "    currData = np.loadtxt(dataDir + df);\n",
    "    print('Adding ' + str(currData.shape[0]) + ' trials')\n",
    "    if df == dFiles[0]:\n",
    "        data = currData;\n",
    "    else:\n",
    "        data = np.concatenate((data, currData), axis = 0);\n",
    "\n",
    "sfVals = np.union1d(np.unique(data[:, sfIdx]), np.unique(data[:, sfIdx+nInd]))\n",
    "conVals = np.union1d(np.unique(data[:, conIdx]), np.unique(data[:, conIdx+nInd]))\n",
    "dispVals = np.union1d(np.unique(data[:, dispIdx]), np.unique(data[:, dispIdx+nInd]))"
   ]
  },
  {
   "cell_type": "code",
   "execution_count": 7,
   "metadata": {
    "collapsed": false
   },
   "outputs": [],
   "source": [
    "allResp = data[:, subjRespIdx];\n",
    "if any((allResp != stim1) & (allResp != stim2)):\n",
    "    print('Problem: response which is neither 1 or 2')"
   ]
  },
  {
   "cell_type": "code",
   "execution_count": 8,
   "metadata": {
    "collapsed": false
   },
   "outputs": [],
   "source": [
    "s1g = data[:, sfIdx] > data[:, sfIdx+nInd];\n",
    "s2g = data[:, sfIdx] < data[:, sfIdx+nInd]"
   ]
  },
  {
   "cell_type": "code",
   "execution_count": 36,
   "metadata": {
    "collapsed": false
   },
   "outputs": [],
   "source": [
    "# find which one is the reference (as opposed to test) grating\n",
    "ref = np.zeros(data.shape[0])\n",
    "ref = data[:, refIdx]\n",
    "\n",
    "# allows for possibility of more than one refSf...\n",
    "refSF = np.union1d(np.unique(data[ref==1, sfIdx]), np.unique(data[ref==2, sfIdx+nInd]))"
   ]
  },
  {
   "cell_type": "code",
   "execution_count": 25,
   "metadata": {
    "collapsed": false
   },
   "outputs": [],
   "source": [
    "# did the subject perceive the test as higher SF?\n",
    "testHF = np.zeros(data.shape[0]);\n",
    "testHF[ref==1] = data[ref==1, subjRespIdx] == stim2;\n",
    "testHF[ref==2] = data[ref==2, subjRespIdx] == stim1;"
   ]
  },
  {
   "cell_type": "code",
   "execution_count": 26,
   "metadata": {
    "collapsed": false
   },
   "outputs": [],
   "source": [
    "testCons = np.zeros(data.shape[0])\n",
    "testCons[ref==1] = data[ref==1, nInd+conIdx];\n",
    "testCons[ref==2] = data[ref==2, conIdx];"
   ]
  },
  {
   "cell_type": "code",
   "execution_count": 29,
   "metadata": {
    "collapsed": true
   },
   "outputs": [],
   "source": [
    "testSfs = np.zeros(data.shape[0])\n",
    "testSfs[ref==1] = data[ref==1, nInd+sfIdx];\n",
    "testSfs[ref==2] = data[ref==2, sfIdx];"
   ]
  },
  {
   "cell_type": "code",
   "execution_count": 30,
   "metadata": {
    "collapsed": false
   },
   "outputs": [],
   "source": [
    "checkz = np.zeros((len(testSfs), 1));\n",
    "for i in range(len(sfVals)):\n",
    "    checkz[testSfs == sfVals[i]] = 1;"
   ]
  },
  {
   "cell_type": "code",
   "execution_count": 31,
   "metadata": {
    "collapsed": false
   },
   "outputs": [
    {
     "name": "stdout",
     "output_type": "stream",
     "text": [
      "Con 0.05: 791.0 trials\n",
      "Con 0.1: 830.0 trials\n",
      "Con 0.33: 853.0 trials\n",
      "Con 1.0: 826.0 trials\n"
     ]
    }
   ],
   "source": [
    "# data analysis - number of trials/responses \"test>ref sf\", fraction \"test>ref\" split by sf/con\n",
    "ptSf, nTr, nTestResp = (np.zeros((len(conVals), len(sfVals))) for _ in range(3));\n",
    "for con in range(len(conVals)):\n",
    "    for sf in range(len(sfVals)):\n",
    "        z = (testSfs == sfVals[sf]) & (testCons == conVals[con]) # get trials with the desired test sf/con\n",
    "        nTr[con][sf] = sum(z); # how many trials in this configuration\n",
    "        nTestResp[con][sf] = sum(testHF[z]) # how many trials in this configuration with response \"test > ref sf\"\n",
    "        ptSf[con][sf] = nTestResp[con][sf] / nTr[con][sf]\n",
    "    print('Con ' + str(conVals[con]) + ': ' + str(sum(nTr[con])) + ' trials')"
   ]
  },
  {
   "cell_type": "code",
   "execution_count": 32,
   "metadata": {
    "collapsed": false
   },
   "outputs": [],
   "source": [
    "# optimize and bootstrap\n",
    "nFits = 5; # don't think you really need multistart, but good to have flexibility\n",
    "bootIter = 100; # set to 0 for no bootstrap\n",
    "nParams = 4;\n",
    "bootTestResps = np.zeros((len(conVals), len(nTestResp[0]), bootIter))\n",
    "params = np.zeros((len(conVals), nParams));\n",
    "loss = np.zeros((len(conVals), 1)); # only one loss value...\n",
    "paramsBoot = np.zeros((len(conVals), nParams, bootIter));\n",
    "\n",
    "for c in range(len(conVals)):\n",
    "    opt = hlp.opt_pmf(sfVals, nTestResp[c], nTr[c], norm.cdf, nFits)\n",
    "    params[c, :] = opt['x'];\n",
    "    loss[c] = opt['fun'];\n",
    "    \n",
    "    for iter in range(bootIter):\n",
    "        bootTestResps[c, :, iter] = np.random.binomial(nTr.astype('int64')[c], ptSf[c])\n",
    "        optBoot = hlp.opt_pmf(sfVals, bootTestResps[c, :, iter], nTr[c], norm.cdf, 1)\n",
    "        paramsBoot[c, :, iter] = optBoot['x'];"
   ]
  },
  {
   "cell_type": "code",
   "execution_count": 33,
   "metadata": {
    "collapsed": true
   },
   "outputs": [],
   "source": [
    "# compute from bootstrap values...\n",
    "bootParamMean = paramsBoot.mean(-1);\n",
    "bootParamStd = paramsBoot.std(-1);\n",
    "\n",
    "# reshape number of trials by con/sf so we can get bootstrap estimates of subject's proportion responses \"test>ref\"\n",
    "bootPtSf = bootTestResps / np.repeat(nTr.reshape((len(conVals), len(nTestResp[0]), 1)), 100, axis=-1); \n",
    "bootPtSfmean = bootPtSf.mean(-1);\n",
    "bootPtSfstd = bootPtSf.std(-1);"
   ]
  },
  {
   "cell_type": "markdown",
   "metadata": {},
   "source": [
    "### Plot of psychometric function and measured responses"
   ]
  },
  {
   "cell_type": "code",
   "execution_count": 60,
   "metadata": {
    "collapsed": false
   },
   "outputs": [
    {
     "data": {
      "image/png": "[encoded data removed]",
      "text/plain": [
       "<matplotlib.figure.Figure at 0x118b50978>"
      ]
     },
     "metadata": {},
     "output_type": "display_data"
    }
   ],
   "source": [
    "# now plot the PMF\n",
    "whichCon = 0;\n",
    "x = np.arange(sfVals[0], sfVals[-1], 1e-2);\n",
    "true_pmf = lambda params: params[2] + (1-params[2]-params[3])*norm.cdf(x, *params[0:2])\n",
    "\n",
    "pts = plt.errorbar(sfVals, ptSf[whichCon], yerr=bootPtSfstd[whichCon, :], clip_on=False, linestyle='none', marker='o');\n",
    "refSFline = plt.semilogx([refSF, refSF], [0, 1], '--'); \n",
    "pse = plt.semilogx([sfVals[0], sfVals[-1]], [0.5, 0.5], '--')\n",
    "pmf = plt.semilogx(x, true_pmf(params[whichCon, :]), '-');\n",
    "plt.ylim([0, 1]);\n",
    "plt.xlabel('test SF (c/deg)');\n",
    "plt.ylabel('proportion \"test\" higher SF');\n",
    "plt.legend((pts[0], refSFline[0], pse[0], pmf[0]), ('subject responses', 'reference SF', 'PSE', 'fit pmf'));\n",
    "plt.title('PMF for test contrast: ' + str(conVals[whichCon]) + ' -- ' + str(sum(nTr[whichCon])) + ' trials');"
   ]
  },
  {
   "cell_type": "markdown",
   "metadata": {},
   "source": [
    "### Comparison of two contrasts"
   ]
  },
  {
   "cell_type": "code",
   "execution_count": 68,
   "metadata": {
    "collapsed": false
   },
   "outputs": [
    {
     "data": {
      "text/plain": [
       "array([ 0.625 ,  0.5618,  0.5165,  0.5055])"
      ]
     },
     "execution_count": 68,
     "metadata": {},
     "output_type": "execute_result"
    }
   ],
   "source": [
    "ptSf[:, 5]"
   ]
  },
  {
   "cell_type": "code",
   "execution_count": 63,
   "metadata": {
    "collapsed": false
   },
   "outputs": [
    {
     "data": {
      "image/png": "[encoded data removed]",
      "text/plain": [
       "<matplotlib.figure.Figure at 0x1182fa7b8>"
      ]
     },
     "metadata": {},
     "output_type": "display_data"
    }
   ],
   "source": [
    "con1 = 0; con2 = 3;\n",
    "x = np.arange(sfVals[0], sfVals[-1], 1e-2)\n",
    "true_pmf = lambda params: params[2] + (1-params[2]-params[3])*norm.cdf(x, *params[0:2])\n",
    "\n",
    "pts = plt.errorbar(sfVals, ptSf[con1], yerr=bootPtSfstd[con1, :], clip_on=False, linestyle='none', marker='o');\n",
    "pts2 = plt.errorbar(sfVals, ptSf[con2], yerr=bootPtSfstd[con2, :], clip_on=False, linestyle='none', marker='o');\n",
    "refSFline = plt.semilogx([refSF, refSF], [0, 1], '--'); \n",
    "pse = plt.semilogx([sfVals[0], sfVals[-1]], [0.5, 0.5], '--')\n",
    "pmf = plt.semilogx(x, true_pmf(params[con1, :]), '-');\n",
    "pmf = plt.semilogx(x, true_pmf(params[con2, :]), '-');\n",
    "plt.ylim([0, 1]);\n",
    "plt.xlabel('test SF (c/deg)');\n",
    "plt.ylabel('proportion \"test\" higher SF');\n",
    "plt.legend((pts[0], pts2[0], refSFline[0], pse[0], pmf[0]), (str(conVals[con1]), str(conVals[con2]), 'reference SF', 'PSE', 'fit pmf'));\n",
    "plt.title('PMF for test contrasts: ' + str(conVals[con1]) + ' & ' + str(conVals[con2]));"
   ]
  },
  {
   "cell_type": "markdown",
   "metadata": {},
   "source": [
    "### Plot of subject bias and sensitivity"
   ]
  },
  {
   "cell_type": "code",
   "execution_count": 77,
   "metadata": {
    "collapsed": false
   },
   "outputs": [],
   "source": [
    "pse = np.zeros((len(conVals), 1));\n",
    "evalSfs = np.arange(sfVals[0], sfVals[-1], 1e-3);\n",
    "evalPmf = lambda params: params[2] + (1-params[2]-params[3])*norm.cdf(evalSfs, *params[0:2]);\n",
    "for con in range(len(conVals)):\n",
    "    pse[con] = evalSfs[np.argmin(abs(evalPmf(params[con]) - 0.5))]"
   ]
  },
  {
   "cell_type": "code",
   "execution_count": 45,
   "metadata": {
    "collapsed": false
   },
   "outputs": [],
   "source": [
    "# Statistics on PSE bootstrapped values...\n",
    "pOfInt = 0; # PSE\n",
    "outerInd = len(conVals);\n",
    "pValPSE = np.nan*np.ones((outerInd, outerInd));\n",
    "for c in range(outerInd):\n",
    "    for ci in range(len(conVals) - c-1):\n",
    "        \n",
    "        z, pValPSE[c, c+ci+1] = wilcoxon(paramsBoot[c, pOfInt, :], paramsBoot[c+ci+1, pOfInt, :]); # 0 is PSE\n",
    "        pValPSE[c+ci+1, c] = pValPSE[c, c+ci+1]"
   ]
  },
  {
   "cell_type": "code",
   "execution_count": 49,
   "metadata": {
    "collapsed": false
   },
   "outputs": [
    {
     "name": "stdout",
     "output_type": "stream",
     "text": [
      "Significant difference in bootstrap distributions of PSE? P value:\n",
      "[[         nan   3.2571e-15   1.8508e-14   8.2082e-10]\n",
      " [  0.0000e+00          nan   9.0712e-02   9.2928e-04]\n",
      " [  0.0000e+00   0.0000e+00          nan   1.2180e-01]\n",
      " [  0.0000e+00   0.0000e+00   0.0000e+00          nan]]\n"
     ]
    }
   ],
   "source": [
    "print('Significant difference in bootstrap distributions of PSE? P value:')\n",
    "upTri = np.triu(pValPSE);\n",
    "np.set_printoptions(precision=4)\n",
    "np.set_printoptions(suppress=False)\n",
    "print(upTri)"
   ]
  },
  {
   "cell_type": "code",
   "execution_count": 70,
   "metadata": {
    "collapsed": false
   },
   "outputs": [
    {
     "data": {
      "image/png": "[encoded data removed]",
      "text/plain": [
       "<matplotlib.figure.Figure at 0x118372710>"
      ]
     },
     "metadata": {},
     "output_type": "display_data"
    }
   ],
   "source": [
    "fig, paramPlot = plt.subplots(1, 4, figsize=(16, 4));\n",
    "\n",
    "paramPlot[0].errorbar(conVals, params[:, 0], bootParamStd[:, 0]);\n",
    "paramPlot[0].set_xscale('log');\n",
    "paramPlot[0].set_xlabel('test contrast');\n",
    "paramPlot[0].set_ylabel('PSE (cpd)');\n",
    "paramPlot[0].set_title('Subject bias');\n",
    "\n",
    "paramPlot[1].errorbar(conVals, params[:, 1], bootParamStd[:, 1]);\n",
    "paramPlot[1].set_xscale('log');\n",
    "paramPlot[1].set_xlabel('test contrast');\n",
    "paramPlot[1].set_ylabel('PMF slope (a.u.)');\n",
    "paramPlot[1].set_title('Subject sensitivity');\n",
    "\n",
    "paramPlot[2].errorbar(conVals, params[:, 2], bootParamStd[:, 2]);\n",
    "paramPlot[2].set_xscale('log');\n",
    "paramPlot[2].set_xlabel('test contrast');\n",
    "paramPlot[2].set_ylabel('Lapse (low end)');\n",
    "paramPlot[2].set_title('Subject lapse');\n",
    "\n",
    "paramPlot[3].errorbar(conVals, params[:, 3], bootParamStd[:, 3]);\n",
    "paramPlot[3].set_xscale('log');\n",
    "paramPlot[3].set_xlabel('test contrast');\n",
    "paramPlot[3].set_ylabel('Lapse (high end)');\n",
    "paramPlot[3].set_title('Subject lapse');"
   ]
  },
  {
   "cell_type": "code",
   "execution_count": null,
   "metadata": {
    "collapsed": true
   },
   "outputs": [],
   "source": []
  }
 ],
 "metadata": {
  "kernelspec": {
   "display_name": "Python 3",
   "language": "python",
   "name": "python3"
  },
  "language_info": {
   "codemirror_mode": {
    "name": "ipython",
    "version": 3
   },
   "file_extension": ".py",
   "mimetype": "text/x-python",
   "name": "python",
   "nbconvert_exporter": "python",
   "pygments_lexer": "ipython3",
   "version": "3.6.0"
  }
 },
 "nbformat": 4,
 "nbformat_minor": 2
}
