{
 "cells": [
  {
   "cell_type": "code",
   "execution_count": 1,
   "metadata": {
    "collapsed": false
   },
   "outputs": [],
   "source": [
    "import numpy as np\n",
    "import matplotlib \n",
    "import matplotlib.pyplot as plt\n",
    "import matplotlib.backends.backend_pdf as pltSave\n",
    "import matplotlib.ticker as ticker\n",
    "import seaborn as sns\n",
    "import helper_fcns as hlp\n",
    "import autoreload\n",
    "import os\n",
    "from scipy.stats import norm, wilcoxon\n",
    "import statsmodels.api as sm\n",
    "matplotlib.style.use('plt_style.mplstyle')\n",
    "%matplotlib inline"
   ]
  },
  {
   "cell_type": "markdown",
   "metadata": {},
   "source": [
    "Collect/consolidate data for GLM fit. Need trial-by-trial responses, split by contrast and spatial frequency. We will fit one model for each contrast, so we'll need the data consolidated over all spatial frequencies for a given contrast"
   ]
  },
  {
   "cell_type": "code",
   "execution_count": 2,
   "metadata": {
    "collapsed": false
   },
   "outputs": [],
   "source": [
    "dataDir = 'data/';\n",
    "saveDir = dataDir + 'results/';\n",
    "disp = 5;\n",
    "isGeorgeson = 0;\n",
    "savePlts = 0 ;\n",
    "savePlts_logit = 1;\n",
    "\n",
    "pmf_str = 'weibull';\n",
    "\n",
    "weibull = lambda x, *params: 1 - np.exp(-np.power(x/params[0], params[1]));\n",
    "true_pmf = lambda params, x: params[3] + (1-params[2]-params[3])*weibull(x, *params[0:2])\n",
    "# true_pmf = lambda params, x: params[3] + (1-params[2]-params[3])*norm.cdf(x, *params[0:2])\n",
    "\n",
    "if isGeorgeson:\n",
    "    whichFiles = 'toAnalyzeD' + str(disp) + 'g.txt';\n",
    "else:\n",
    "    whichFiles = 'toAnalyzeD' + str(disp) + '.txt';\n",
    "dataList = open(dataDir + whichFiles, 'r')\n",
    "dFilesAll = dataList.readlines(-1)\n",
    "dFilesAll = [x.strip('\\n') for x in dFilesAll]\n",
    "dataList.close()"
   ]
  },
  {
   "cell_type": "code",
   "execution_count": 3,
   "metadata": {
    "collapsed": false
   },
   "outputs": [],
   "source": [
    "if not isGeorgeson:\n",
    "    if disp == 1:\n",
    "        dFiles = dFilesAll[4:]; # ignore the first 4 sessions - early training\n",
    "    elif disp == 3:\n",
    "        dFiles = dFilesAll[1:];\n",
    "    elif disp == 5:\n",
    "        dFiles = dFilesAll[2:]; # ignore first 2\n",
    "else:\n",
    "    dFiles = dFilesAll;"
   ]
  },
  {
   "cell_type": "code",
   "execution_count": 4,
   "metadata": {
    "collapsed": true
   },
   "outputs": [],
   "source": [
    "sfIdx = 0;\n",
    "conIdx = 1;\n",
    "dispIdx = 2;\n",
    "nInd = 3; # 3 indices per stimulus; add 3 to all of the above indices to get the equivalent value for the second stimulus\n",
    "subjRespIdx = 2*nInd;\n",
    "refIdx = subjRespIdx + 1; # which interval contained reference is after the subject's response in the data format"
   ]
  },
  {
   "cell_type": "code",
   "execution_count": 5,
   "metadata": {
    "collapsed": true
   },
   "outputs": [],
   "source": [
    "stim1 = 39; stim2 = 41; # subject responses (asked if first/left stimulus is of higher frequency than the second/right stimulus)"
   ]
  },
  {
   "cell_type": "code",
   "execution_count": 6,
   "metadata": {
    "collapsed": false
   },
   "outputs": [],
   "source": [
    "data = [];\n",
    "for df in dFiles:\n",
    "    currData = np.loadtxt(dataDir + df);\n",
    "    if df == dFiles[0]:\n",
    "        data = currData;\n",
    "    else:\n",
    "        data = np.concatenate((data, currData), axis = 0);\n",
    "\n",
    "sfVals = np.union1d(np.unique(data[:, sfIdx]), np.unique(data[:, sfIdx+nInd]))\n",
    "conVals = np.union1d(np.unique(data[:, conIdx]), np.unique(data[:, conIdx+nInd]))\n",
    "nCons = len(conVals);\n",
    "dispVals = np.union1d(np.unique(data[:, dispIdx]), np.unique(data[:, dispIdx+nInd]))"
   ]
  },
  {
   "cell_type": "code",
   "execution_count": 7,
   "metadata": {
    "collapsed": false
   },
   "outputs": [],
   "source": [
    "allResp = data[:, subjRespIdx];\n",
    "if any((allResp != stim1) & (allResp != stim2)):\n",
    "    print('Problem: response which is neither 1 or 2')"
   ]
  },
  {
   "cell_type": "code",
   "execution_count": 8,
   "metadata": {
    "collapsed": false
   },
   "outputs": [],
   "source": [
    "s1g = data[:, sfIdx] > data[:, sfIdx+nInd];\n",
    "s2g = data[:, sfIdx] < data[:, sfIdx+nInd]"
   ]
  },
  {
   "cell_type": "code",
   "execution_count": 9,
   "metadata": {
    "collapsed": false
   },
   "outputs": [],
   "source": [
    "# find which one is the reference (as opposed to test) grating\n",
    "ref = np.zeros(data.shape[0])\n",
    "ref = data[:, refIdx]\n",
    "\n",
    "# allows for possibility of more than one refSf...\n",
    "refSF = np.union1d(np.unique(data[ref==1, sfIdx]), np.unique(data[ref==2, sfIdx+nInd]))"
   ]
  },
  {
   "cell_type": "code",
   "execution_count": 10,
   "metadata": {
    "collapsed": false
   },
   "outputs": [],
   "source": [
    "# did the subject perceive the test as higher SF?\n",
    "testHF = np.zeros(data.shape[0]);\n",
    "testHF[ref==1] = data[ref==1, subjRespIdx] == stim2;\n",
    "testHF[ref==2] = data[ref==2, subjRespIdx] == stim1;"
   ]
  },
  {
   "cell_type": "code",
   "execution_count": 11,
   "metadata": {
    "collapsed": false
   },
   "outputs": [],
   "source": [
    "testCons = np.zeros(data.shape[0])\n",
    "testCons[ref==1] = data[ref==1, nInd+conIdx];\n",
    "testCons[ref==2] = data[ref==2, conIdx];"
   ]
  },
  {
   "cell_type": "code",
   "execution_count": 12,
   "metadata": {
    "collapsed": true
   },
   "outputs": [],
   "source": [
    "testSfs = np.zeros(data.shape[0])\n",
    "testSfs[ref==1] = data[ref==1, nInd+sfIdx];\n",
    "testSfs[ref==2] = data[ref==2, sfIdx];"
   ]
  },
  {
   "cell_type": "code",
   "execution_count": 13,
   "metadata": {
    "collapsed": false
   },
   "outputs": [],
   "source": [
    "checkz = np.zeros((len(testSfs), 1));\n",
    "for i in range(len(sfVals)):\n",
    "    checkz[testSfs == sfVals[i]] = 1;"
   ]
  },
  {
   "cell_type": "code",
   "execution_count": 14,
   "metadata": {
    "collapsed": false
   },
   "outputs": [
    {
     "name": "stdout",
     "output_type": "stream",
     "text": [
      "Con 0.05: 192.0 trials\n",
      "Con 0.1: 167.0 trials\n",
      "Con 0.33: 190.0 trials\n",
      "Con 1.0: 201.0 trials\n"
     ]
    }
   ],
   "source": [
    "# data analysis - number of trials/responses \"test>ref sf\", fraction \"test>ref\" split by sf/con\n",
    "glmFits = [];\n",
    "ptSf, nTr, nTestResp = (np.zeros((nCons, len(sfVals))) for _ in range(3));\n",
    "for con in range(nCons):\n",
    "    for sf in range(len(sfVals)):\n",
    "        z = (testSfs == sfVals[sf]) & (testCons == conVals[con]) # get trials with the desired test sf/con\n",
    "        nTr[con][sf] = sum(z); # how many trials in this configuration\n",
    "        nTestResp[con][sf] = sum(testHF[z]) # how many trials in this configuration with response \"test > ref sf\"\n",
    "        ptSf[con][sf] = nTestResp[con][sf] / nTr[con][sf]\n",
    "    print('Con ' + str(conVals[con]) + ': ' + str(sum(nTr[con])) + ' trials')"
   ]
  },
  {
   "cell_type": "code",
   "execution_count": null,
   "metadata": {
    "collapsed": false
   },
   "outputs": [],
   "source": [
    "autoreload.reload(hlp);"
   ]
  },
  {
   "cell_type": "code",
   "execution_count": null,
   "metadata": {
    "collapsed": false
   },
   "outputs": [],
   "source": [
    "# optimize and bootstrap\n",
    "nFits = 5; # don't think you need multistart, but build it in anyway\n",
    "bootIter = 100; # set to 0 for no bootstrap\n",
    "univ_params = 3; # number of \"universal parameters\", i.e. for all pmf\n",
    "nParams = nCons + univ_params; # one mean for each contrast; overall slope, lapses\n",
    "bootTestResps = np.zeros((nCons, len(nTestResp[0]), bootIter))\n",
    "loss = np.zeros((nCons, 1)); # only one loss value...\n",
    "\n",
    "opt = hlp.opt_pmf(sfVals, nTestResp, nTr, weibull, nFits);\n",
    "# opt = hlp.opt_pmf(sfVals, nTestResp, nTr, norm.cdf, nFits);\n",
    "\n",
    "params = np.zeros((nCons, univ_params+1)) # 3+1 params per PMF\n",
    "for c in range(nCons): # now unpack...\n",
    "    params[c, 0] = opt['x'][c];\n",
    "    params[c, 1] = opt['x'][nCons+c];\n",
    "    params[c, 2] = opt['x'][2*nCons+c];\n",
    "    params[c, 3] = opt['x'][3*nCons+c];\n",
    "    # expand dimensions of nTestResp so that pmf_loss knows there is only one contrast value to explore\n",
    "    loss[c] = hlp.pmf_loss(sfVals, np.expand_dims(nTestResp[c], 0), np.expand_dims(nTr[c], 0),\n",
    "                           norm.cdf, params[c, 0], params[c, 1], params[c, 2], params[c, 3]);\n",
    "    \n",
    "paramsBoot = np.zeros((nCons, univ_params+1, bootIter));\n",
    "for iter in range(bootIter):\n",
    "    bootTestResps[:, :, iter] = np.random.binomial(nTr.astype('int64'), ptSf)\n",
    "    # expand dimensions of bootTestResps so that pmf_loss knows there is only one contrast value to explore\n",
    "    optBoot = hlp.opt_pmf(sfVals, bootTestResps[:, :, iter], nTr, norm.cdf, 1)\n",
    "    # unpack paramters\n",
    "    for c in range(nCons):\n",
    "        paramsBoot[c, 0, iter] = optBoot['x'][c];\n",
    "        paramsBoot[c, 1, iter] = optBoot['x'][nCons+c];\n",
    "        paramsBoot[c, 2, iter] = optBoot['x'][2*nCons+c];\n",
    "        paramsBoot[c, 3, iter] = optBoot['x'][3*nCons+c];"
   ]
  },
  {
   "cell_type": "code",
   "execution_count": null,
   "metadata": {
    "collapsed": true
   },
   "outputs": [],
   "source": [
    "# compute from bootstrap values...\n",
    "bootParamMean = paramsBoot.mean(-1);\n",
    "bootParamStd = paramsBoot.std(-1);\n",
    "\n",
    "# reshape number of trials by con/sf so we can get bootstrap estimates of subject's proportion responses \"test>ref\"\n",
    "bootPtSf = bootTestResps / np.repeat(nTr.reshape((len(conVals), len(nTestResp[0]), 1)), 100, axis=-1); \n",
    "bootPtSfmean = bootPtSf.mean(-1);\n",
    "bootPtSfstd = bootPtSf.std(-1);"
   ]
  },
  {
   "cell_type": "markdown",
   "metadata": {},
   "source": [
    "### Plot of psychometric function and measured responses"
   ]
  },
  {
   "cell_type": "code",
   "execution_count": null,
   "metadata": {
    "collapsed": false
   },
   "outputs": [],
   "source": [
    "# now plot the PMF\n",
    "whichCon = 1;\n",
    "x = np.log2(np.arange(sfVals[0], sfVals[-1], 1e-2));\n",
    "# true_pmf = lambda params: params[3] + (1-params[2]-params[3])*norm.cdf(x, *params[0:2])\n",
    "\n",
    "curr_params = params[whichCon, :]\n",
    "#sns.set_style(\"dark\")\n",
    "\n",
    "pts = plt.errorbar(np.log2(sfVals), ptSf[whichCon], yerr=bootPtSfstd[whichCon, :], clip_on=False, linestyle='none', marker='o');\n",
    "refSFline = plt.plot(np.log2([refSF, refSF]), [0, 1], '--'); \n",
    "pse = plt.plot(np.log2([sfVals[0], sfVals[-1]]), [0.5, 0.5], '--')\n",
    "pmf = plt.plot(x, true_pmf(curr_params, x), '-');\n",
    "plt.ylim([0, 1]);\n",
    "sfAsStr = [str(x) for x in np.round(sfVals, 2)];\n",
    "plt.xticks(np.log2(sfVals), sfAsStr, rotation='45')\n",
    "plt.xlabel('test SF (c/deg)');\n",
    "plt.ylabel('proportion \"test\" higher SF');\n",
    "plt.legend((pts[0], refSFline[0], pse[0], pmf[0]), ('subject responses', 'reference SF', 'PSE', 'fit pmf'));\n",
    "plt.title('PMF for test contrast: ' + str(conVals[whichCon]) + ' -- ' + str(sum(nTr[whichCon])) + ' trials');"
   ]
  },
  {
   "cell_type": "markdown",
   "metadata": {},
   "source": [
    "### Comparison of two contrasts"
   ]
  },
  {
   "cell_type": "code",
   "execution_count": null,
   "metadata": {
    "collapsed": false
   },
   "outputs": [],
   "source": [
    "con1 = 0; con2 = 3;\n",
    "x = np.log2(np.arange(sfVals[0], sfVals[-1], 1e-2))\n",
    "# true_pmf = lambda params: params[2] + (1-2*params[2])*norm.cdf(x, *params[0:2])\n",
    "\n",
    "params1 = params[con1, :];\n",
    "params2 = params[con2, :];\n",
    "\n",
    "pts = plt.errorbar(np.log2(sfVals), ptSf[con1], yerr=bootPtSfstd[con1, :], clip_on=False, linestyle='none', marker='o');\n",
    "pts2 = plt.errorbar(np.log2(sfVals), ptSf[con2], yerr=bootPtSfstd[con2, :], clip_on=False, linestyle='none', marker='o');\n",
    "refSFline = plt.plot(np.log2([refSF, refSF]), [0, 1], '--'); \n",
    "pse = plt.plot(np.log2([sfVals[0], sfVals[-1]]), [0.5, 0.5], '--')\n",
    "pmf = plt.plot(x, true_pmf(params1, x), '-');\n",
    "pmf = plt.plot(x, true_pmf(params2, x), '-');\n",
    "plt.ylim([0, 1]);\n",
    "sfAsStr = [str(x) for x in np.round(sfVals, 2)];\n",
    "plt.xticks(np.log2(sfVals), sfAsStr, rotation='45')\n",
    "plt.xlabel('test SF (c/deg)');\n",
    "plt.ylabel('proportion \"test\" higher SF');\n",
    "plt.legend((pts[0], pts2[0], refSFline[0], pse[0], pmf[0]), (str(conVals[con1]), str(conVals[con2]), 'reference SF', 'PSE', 'fit pmf'));\n",
    "plt.title('PMF for test contrasts: ' + str(conVals[con1]) + ' & ' + str(conVals[con2]));"
   ]
  },
  {
   "cell_type": "markdown",
   "metadata": {},
   "source": [
    "### Plot all PMF"
   ]
  },
  {
   "cell_type": "code",
   "execution_count": null,
   "metadata": {
    "collapsed": true
   },
   "outputs": [],
   "source": [
    "from matplotlib import rcParams\n",
    "rcParams['font.family'] = 'sans-serif'\n",
    "rcParams['font.sans-serif'] = ['Helvetica']\n",
    "rcParams['font.style'] = 'oblique'\n",
    "#rcParams['font.size'] = 20\n",
    "rcParams['pdf.fonttype'] = 3 # should be 42, but there are kerning issues\n",
    "rcParams['ps.fonttype'] = 3 # should be 42, but there are kerning issues"
   ]
  },
  {
   "cell_type": "code",
   "execution_count": null,
   "metadata": {
    "collapsed": false
   },
   "outputs": [],
   "source": [
    "figPMF, allPMF = plt.subplots(1, 4, figsize=(20, 4));\n",
    "# now plot the PMF\n",
    "\n",
    "sns.set_style('white')\n",
    "sns.despine(offset=10);\n",
    "\n",
    "for c in range(nCons):\n",
    "    whichCon = c;\n",
    "    x = np.log2(np.arange(sfVals[0], sfVals[-1], 1e-2));\n",
    "#     true_pmf = lambda params: params[2] + (1-2*params[2])*norm.cdf(x, *params[0:2])\n",
    "\n",
    "    pts = allPMF[c].errorbar(np.log2(sfVals), ptSf[whichCon], yerr=bootPtSfstd[whichCon, :], clip_on=False, linestyle='none', marker='o');\n",
    "    refSFline = allPMF[c].plot(np.log2([refSF, refSF]), [0, 1], '--'); \n",
    "    pse = allPMF[c].plot(np.log2([sfVals[0], sfVals[-1]]), [0.5, 0.5], '--')\n",
    "    pmf = allPMF[c].plot(x, true_pmf(params[whichCon, :], x), '-');\n",
    "    allPMF[c].set_ylim([0, 1]);\n",
    "    allPMF[c].set_xticks(np.log2(sfVals))\n",
    "    allPMF[c].tick_params(labelsize=15, width=2, length=15, which='major')\n",
    "    allPMF[c].tick_params(labelsize=0, width=0, length=0, which='minor')\n",
    "    sfAsStr = [str(x) for x in np.round(sfVals, 2)];\n",
    "    allPMF[c].set_xticklabels(sfAsStr, rotation='45')\n",
    "    allPMF[c].set_xlabel('test SF (c/deg)');\n",
    "    allPMF[c].set_ylabel('prop \"test\" higher SF');\n",
    "    allPMF[c].set_title('Contrast: ' + str(conVals[whichCon]) + ' -- ' + str(sum(nTr[whichCon])) + ' trials');\n",
    "    if c == 0:\n",
    "        allPMF[c].legend((pts[0], refSFline[0], pse[0], pmf[0]), ('subject responses', 'reference SF', 'PSE', 'fit pmf'), loc='upper left', fontsize=8);\n",
    "\n",
    "figPMF.tight_layout()"
   ]
  },
  {
   "cell_type": "markdown",
   "metadata": {},
   "source": [
    "What are the inferred PSEs for each contrast? How about the SF which is perceived at the reference SF?"
   ]
  },
  {
   "cell_type": "code",
   "execution_count": null,
   "metadata": {
    "collapsed": false
   },
   "outputs": [],
   "source": [
    "autoreload.reload(hlp);"
   ]
  },
  {
   "cell_type": "code",
   "execution_count": null,
   "metadata": {
    "collapsed": false
   },
   "outputs": [],
   "source": [
    "fit_pse = np.zeros((nCons, 1));\n",
    "opts = [];\n",
    "for c in range(nCons):\n",
    "    fit_pse[c, 0], opts_curr = hlp.find_pse(true_pmf, params[c, :])\n",
    "    opts.append(opts_curr);\n",
    "    print('%.2f contrast: PSE is %.3f cpd' % (conVals[c], np.power(2, fit_pse[c, 0])))"
   ]
  },
  {
   "cell_type": "markdown",
   "metadata": {},
   "source": [
    "### Plot of subject bias and sensitivity"
   ]
  },
  {
   "cell_type": "code",
   "execution_count": null,
   "metadata": {
    "collapsed": false
   },
   "outputs": [],
   "source": [
    "pse = np.zeros((len(conVals), 1));\n",
    "evalSfs = np.arange(sfVals[0], sfVals[-1], 1e-3);\n",
    "evalPmf = lambda params: params[2] + (1-2*params[2])*norm.cdf(evalSfs, *params[0:2]);\n",
    "for con in range(len(conVals)):\n",
    "    pse[con] = evalSfs[np.argmin(abs(evalPmf(params[con]) - 0.5))]"
   ]
  },
  {
   "cell_type": "code",
   "execution_count": null,
   "metadata": {
    "collapsed": false
   },
   "outputs": [],
   "source": [
    "# Statistics on PSE bootstrapped values...\n",
    "pOfInt = 0; # PSE\n",
    "outerInd = len(conVals);\n",
    "pValPSE = np.nan*np.ones((outerInd, outerInd));\n",
    "for c in range(outerInd):\n",
    "    for ci in range(len(conVals) - c-1):\n",
    "        \n",
    "        z, pValPSE[c, c+ci+1] = wilcoxon(paramsBoot[c, pOfInt, :], paramsBoot[c+ci+1, pOfInt, :]); # 0 is PSE\n",
    "        pValPSE[c+ci+1, c] = pValPSE[c, c+ci+1]"
   ]
  },
  {
   "cell_type": "code",
   "execution_count": null,
   "metadata": {
    "collapsed": false
   },
   "outputs": [],
   "source": [
    "print('Significant difference in bootstrap distributions of PSE? P value:')\n",
    "upTri = np.triu(pValPSE);\n",
    "np.set_printoptions(precision=4)\n",
    "np.set_printoptions(suppress=False)\n",
    "print(upTri)"
   ]
  },
  {
   "cell_type": "code",
   "execution_count": null,
   "metadata": {
    "collapsed": false
   },
   "outputs": [],
   "source": [
    "nParams = params.shape[0];\n",
    "figParams, paramPlot = plt.subplots(1, nParams, figsize=(8*nParams, 4));\n",
    "\n",
    "sns.set_style('white')\n",
    "sns.despine(offset=10);\n",
    "\n",
    "y_labels = ['SF (cpd)', 'sensitivity', 'lapse rate', 'lapse rate']\n",
    "titles = ['Subject bias', 'Subject sensitivity', 'Lapse (ceiling)', 'Lapse (floor)']\n",
    "\n",
    "for param_i in range(nParams):\n",
    "    \n",
    "    if param_i == 0:\n",
    "        pse = paramPlot[param_i].errorbar(conVals, np.power(2, fit_pse[:, 0]), bootParamStd[:, param_i]);\n",
    "    else:\n",
    "        paramPlot[param_i].errorbar(conVals, params[:, param_i], bootParamStd[:, param_i]);\n",
    "        \n",
    "    paramPlot[param_i].set_xscale('log');\n",
    "    paramPlot[param_i].set_xlabel('test contrast');\n",
    "    paramPlot[param_i].set_ylabel(y_labels[param_i]);\n",
    "    paramPlot[param_i].set_title(titles[param_i]);\n",
    "    paramPlot[param_i].tick_params(labelsize=15, width=2, length=15, which='major')\n",
    "    paramPlot[param_i].set_xticks(conVals);\n",
    "    conAsStr = [str(x) for x in conVals];\n",
    "    paramPlot[param_i].set_xticklabels(conAsStr);\n",
    "\n",
    "# paramPlot[2].text(0.5, 0.55, 'Lapse high: ' + str(np.round(params[0, 2], 3)) + ' +/- ' + \n",
    "#                    str(np.round(bootParamStd[0, 1], 3)), horizontalalignment = 'center', verticalalignment = 'center');\n",
    "# paramPlot[2].text(0.5, 0.45, 'Lapse low: ' + str(np.round(params[0, 3], 3)) + ' +/- ' + \n",
    "#                   str(np.round(bootParamStd[0, 2], 3)), horizontalalignment = 'center', verticalalignment = 'center');\n",
    "# paramPlot[2].set_title('Other parameters');"
   ]
  },
  {
   "cell_type": "code",
   "execution_count": null,
   "metadata": {
    "collapsed": false
   },
   "outputs": [],
   "source": [
    "if savePlts:\n",
    "    allFigs = [figPMF, figParams];\n",
    "    if isGeorgeson:\n",
    "        saveName = \"results_%sD%dg.pdf\" % (pmf_str, disp)\n",
    "    else:\n",
    "        saveName = \"results_%sD%d.pdf\" % (pmf_str, disp)\n",
    "    pdf = pltSave.PdfPages(str(saveDir + saveName))\n",
    "    for fig in range(len(allFigs)): ## will open an empty extra figure :(\n",
    "        pdf.savefig(allFigs[fig], bbox_inches=\"tight\")\n",
    "    pdf.close()"
   ]
  },
  {
   "cell_type": "markdown",
   "metadata": {},
   "source": [
    "### Now do it with a GLM (logit link)"
   ]
  },
  {
   "cell_type": "code",
   "execution_count": null,
   "metadata": {
    "collapsed": true
   },
   "outputs": [],
   "source": [
    "sfsPlot = np.logspace(np.log10(sfVals[0]), np.log10(sfVals[-1]), 101)\n",
    "glmFits = dict();\n",
    "\n",
    "for c in range(nCons):\n",
    "    curr_tr = testCons == conVals[c]; # get trials with the desired test sf/con\n",
    "    resps = testHF[curr_tr];\n",
    "    sfs = testSfs[curr_tr];\n",
    "\n",
    "    curr_fit = hlp.fit_pmf_logit(resps, sfs);\n",
    "    glmFits[c] = dict();\n",
    "    glmFits[c]['opt'] = curr_fit;\n",
    "    pse, pse_se, curve = hlp.get_logit_results(curr_fit, eval_sfs=sfsPlot);\n",
    "    glmFits[c]['pse'] = pse;\n",
    "    glmFits[c]['pse_se'] = pse_se;\n",
    "    glmFits[c]['curve'] = curve;"
   ]
  },
  {
   "cell_type": "code",
   "execution_count": null,
   "metadata": {
    "collapsed": false
   },
   "outputs": [],
   "source": [
    "figPMF, allPMF = plt.subplots(1, 4, figsize=(20, 4));\n",
    "# now plot the PMF\n",
    "\n",
    "sns.set_style('white')\n",
    "sns.despine(offset=10);\n",
    "\n",
    "for c in range(nCons):\n",
    "    whichCon = c;\n",
    "    x = np.log2(sfsPlot);\n",
    "\n",
    "    pts = allPMF[c].errorbar(np.log2(sfVals), ptSf[whichCon], yerr=bootPtSfstd[whichCon, :], clip_on=False, linestyle='none', marker='o');\n",
    "    refSFline = allPMF[c].plot(np.log2([refSF, refSF]), [0, 1], '--'); \n",
    "    pse = allPMF[c].plot(np.log2([sfVals[0], sfVals[-1]]), [0.5, 0.5], '--')\n",
    "    pmf = allPMF[c].plot(x, glmFits[c]['curve'], '-');\n",
    "    allPMF[c].set_ylim([0, 1]);\n",
    "    allPMF[c].set_xticks(np.log2(sfVals))\n",
    "    allPMF[c].tick_params(labelsize=15, width=2, length=15, which='major')\n",
    "    allPMF[c].tick_params(labelsize=0, width=0, length=0, which='minor')\n",
    "    sfAsStr = [str(x) for x in np.round(sfVals, 2)];\n",
    "    allPMF[c].set_xticklabels(sfAsStr, rotation='45')\n",
    "    allPMF[c].set_xlabel('test SF (c/deg)');\n",
    "    allPMF[c].set_ylabel('prop \"test\" higher SF');\n",
    "    allPMF[c].set_title('Contrast: ' + str(conVals[whichCon]) + ' -- ' + str(sum(nTr[whichCon])) + ' trials');\n",
    "    if c == 0:\n",
    "        allPMF[c].legend((pts[0], refSFline[0], pse[0], pmf[0]), ('subject responses', 'reference SF', 'PSE', 'fit pmf'), loc='upper left', fontsize=8);\n",
    "\n",
    "figPMF.tight_layout()"
   ]
  },
  {
   "cell_type": "code",
   "execution_count": null,
   "metadata": {
    "collapsed": false
   },
   "outputs": [],
   "source": [
    "glmFits.keys()"
   ]
  },
  {
   "cell_type": "code",
   "execution_count": null,
   "metadata": {
    "collapsed": false
   },
   "outputs": [],
   "source": [
    "figParams, paramPlot = plt.subplots(1, 1);\n",
    "sns.set_style('white')\n",
    "sns.despine(offset=10);\n",
    "\n",
    "pse = [glmFits[x]['pse'] for x in glmFits.keys()];\n",
    "pse_se = [glmFits[x]['pse_se'] for x in glmFits.keys()];\n",
    "\n",
    "paramPlot.errorbar(conVals, pse, pse_se)\n",
    "\n",
    "paramPlot.set_xscale('log');\n",
    "paramPlot.set_xlabel('test contrast');\n",
    "paramPlot.set_ylabel('sf (cpd)');\n",
    "paramPlot.set_title('Point of subjective equality');\n",
    "paramPlot.tick_params(labelsize=15, width=2, length=15, which='major')\n",
    "paramPlot.set_xticks(conVals);\n",
    "conAsStr = [str(x) for x in conVals];\n",
    "paramPlot.set_xticklabels(conAsStr);\n",
    "\n",
    "# paramPlot[2].text(0.5, 0.55, 'Lapse high: ' + str(np.round(params[0, 2], 3)) + ' +/- ' + \n",
    "#                    str(np.round(bootParamStd[0, 1], 3)), horizontalalignment = 'center', verticalalignment = 'center');\n",
    "# paramPlot[2].text(0.5, 0.45, 'Lapse low: ' + str(np.round(params[0, 3], 3)) + ' +/- ' + \n",
    "#                   str(np.round(bootParamStd[0, 2], 3)), horizontalalignment = 'center', verticalalignment = 'center');\n",
    "# paramPlot[2].set_title('Other parameters');"
   ]
  },
  {
   "cell_type": "code",
   "execution_count": null,
   "metadata": {
    "collapsed": true
   },
   "outputs": [],
   "source": [
    "logit_str = 'logit'\n",
    "if savePlts_logit:\n",
    "    allFigs = [figPMF, figParams];\n",
    "    if isGeorgeson:\n",
    "        saveName = \"results_%sD%dg.pdf\" % (logit_str, disp)\n",
    "    else:\n",
    "        saveName = \"results_%sD%d.pdf\" % (logit_str, disp)\n",
    "    pdf = pltSave.PdfPages(str(saveDir + saveName))\n",
    "    for fig in range(len(allFigs)):\n",
    "        pdf.savefig(allFigs[fig], bbox_inches=\"tight\")\n",
    "    pdf.close()"
   ]
  }
 ],
 "metadata": {
  "kernelspec": {
   "display_name": "Python 3",
   "language": "python",
   "name": "python3"
  },
  "language_info": {
   "codemirror_mode": {
    "name": "ipython",
    "version": 3
   },
   "file_extension": ".py",
   "mimetype": "text/x-python",
   "name": "python",
   "nbconvert_exporter": "python",
   "pygments_lexer": "ipython3",
   "version": "3.6.0"
  }
 },
 "nbformat": 4,
 "nbformat_minor": 2
}
