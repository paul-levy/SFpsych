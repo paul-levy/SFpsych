{
 "cells": [
  {
   "cell_type": "code",
   "execution_count": 91,
   "metadata": {
    "collapsed": false
   },
   "outputs": [],
   "source": [
    "import numpy as np\n",
    "import matplotlib \n",
    "import matplotlib.pyplot as plt\n",
    "import helper_fcns as hlp\n",
    "import autoreload\n",
    "matplotlib.style.use('plt_style.mplstyle')\n",
    "%matplotlib inline"
   ]
  },
  {
   "cell_type": "code",
   "execution_count": 2,
   "metadata": {
    "collapsed": true
   },
   "outputs": [],
   "source": [
    "dataDir = 'data/';\n",
    "whichFiles = 'toAnalyze.txt';\n",
    "dataList = open(dataDir + whichFiles, 'r')\n",
    "dFiles = dataList.readlines(-1)\n",
    "dFiles = [x.strip('\\n') for x in dFiles]\n",
    "dataList.close()"
   ]
  },
  {
   "cell_type": "code",
   "execution_count": 3,
   "metadata": {
    "collapsed": true
   },
   "outputs": [],
   "source": [
    "sfIdx = 0;\n",
    "conIdx = 1;\n",
    "dispIdx = 2;\n",
    "nInd = 3; # 3 indices per stimulus; add 3 to all of the above indices to get the equivalent value for the second stimulus\n",
    "subjRespIdx = 2*nInd;\n",
    "refIdx = subjRespIdx + 1; # which interval contained reference is after the subject's response in the data format"
   ]
  },
  {
   "cell_type": "code",
   "execution_count": 4,
   "metadata": {
    "collapsed": true
   },
   "outputs": [],
   "source": [
    "stim1 = 39; stim2 = 41; # subject responses (asked which stimulus has higher SF)"
   ]
  },
  {
   "cell_type": "code",
   "execution_count": 5,
   "metadata": {
    "collapsed": false
   },
   "outputs": [],
   "source": [
    "data = [];\n",
    "for df in dFiles:\n",
    "    currData = np.loadtxt(dataDir + df);\n",
    "    if df == dFiles[0]:\n",
    "        data = currData;\n",
    "    else:\n",
    "        data = np.concatenate((data, currData), axis = 0);\n",
    "\n",
    "sfVals = np.union1d(np.unique(data[:, sfIdx]), np.unique(data[:, sfIdx+nInd]))\n",
    "conVals = np.union1d(np.unique(data[:, conIdx]), np.unique(data[:, conIdx+nInd]))\n",
    "dispVals = np.union1d(np.unique(data[:, dispIdx]), np.unique(data[:, dispIdx+nInd]))"
   ]
  },
  {
   "cell_type": "code",
   "execution_count": 6,
   "metadata": {
    "collapsed": false
   },
   "outputs": [],
   "source": [
    "allResp = data[:, subjRespIdx];\n",
    "if any((allResp != stim1) & (allResp != stim2)):\n",
    "    print('Problem: response which is neither 1 or 2')"
   ]
  },
  {
   "cell_type": "code",
   "execution_count": 7,
   "metadata": {
    "collapsed": true
   },
   "outputs": [],
   "source": [
    "s1g = data[:, sfIdx] > data[:, sfIdx+nInd];\n",
    "s2g = data[:, sfIdx] < data[:, sfIdx+nInd]"
   ]
  },
  {
   "cell_type": "code",
   "execution_count": 8,
   "metadata": {
    "collapsed": false
   },
   "outputs": [],
   "source": [
    "# find which one is the reference (as opposed to test) grating\n",
    "# there should really just be an indicator which tells you which is reference\n",
    "ref = np.zeros(data.shape[0])\n",
    "refSF = 3; refCon = 1;\n",
    "ref[(data[:, sfIdx] == refSF) & (data[:, conIdx] == refCon)] = 1\n",
    "ref[(data[:, nInd+sfIdx] == 4) & (data[:, nInd+conIdx] == 1)] = 2;"
   ]
  },
  {
   "cell_type": "code",
   "execution_count": 9,
   "metadata": {
    "collapsed": false
   },
   "outputs": [],
   "source": [
    "# did the subject perceive the test as higher SF?\n",
    "testHF = np.zeros(data.shape[0]);\n",
    "testHF[ref==1] = data[ref==1, subjRespIdx] == stim2;\n",
    "testHF[ref==2] = data[ref==2, subjRespIdx] == stim1;"
   ]
  },
  {
   "cell_type": "code",
   "execution_count": 10,
   "metadata": {
    "collapsed": false
   },
   "outputs": [],
   "source": [
    "testCons = np.zeros(data.shape[0])\n",
    "testCons[ref==1] = data[ref==1, nInd+conIdx];\n",
    "testCons[ref==2] = data[ref==2, conIdx];"
   ]
  },
  {
   "cell_type": "code",
   "execution_count": 11,
   "metadata": {
    "collapsed": true
   },
   "outputs": [],
   "source": [
    "testSfs = np.zeros(data.shape[0])\n",
    "testSfs[ref==1] = data[ref==1, nInd+sfIdx];\n",
    "testSfs[ref==2] = data[ref==2, sfIdx];"
   ]
  },
  {
   "cell_type": "code",
   "execution_count": 87,
   "metadata": {
    "collapsed": false
   },
   "outputs": [],
   "source": [
    "ptSf, nTr, nCorr = (np.zeros((len(conVals), len(sfVals))) for _ in range(3));\n",
    "for con in range(len(conVals)):\n",
    "    for sf in range(len(sfVals)):\n",
    "        z = (testSfs == sfVals[sf]) & (testCons == conVals[con])\n",
    "        nTr[con][sf] = sum(z);\n",
    "        nCorr[con][sf] = sum(testHF[z])\n",
    "        ptSf[con][sf] = nCorr[con][sf] / nTr[con][sf]"
   ]
  },
  {
   "cell_type": "code",
   "execution_count": 199,
   "metadata": {
    "collapsed": false
   },
   "outputs": [],
   "source": [
    "# optimize\n",
    "params = np.zeros((len(conVals), 2));\n",
    "for c in range(len(conVals)):\n",
    "    opt = hlp.opt_pmf(sfVals, nCorr[c], nTr[c], norm.cdf)\n",
    "    params[c, :] = opt['x'];\n"
   ]
  },
  {
   "cell_type": "code",
   "execution_count": 200,
   "metadata": {
    "collapsed": false
   },
   "outputs": [
    {
     "data": {
      "image/png": "[encoded data removed]",
      "text/plain": [
       "<matplotlib.figure.Figure at 0x11e84f080>"
      ]
     },
     "metadata": {},
     "output_type": "display_data"
    }
   ],
   "source": [
    "# now plot the PMF\n",
    "whichCon = 0;\n",
    "x = np.arange(sfVals[0], sfVals[-1], 0.1)\n",
    "\n",
    "pts = plt.semilogx(sfVals, ptSf[whichCon], 'o', clip_on=False); refSFline = plt.semilogx([refSF, refSF], [0, 1], '--'); \n",
    "pse = plt.semilogx([sfVals[0], sfVals[-1]], [0.5, 0.5], '--')\n",
    "pmf = plt.semilogx(x, norm.cdf(x, *params[whichCon, :]), '-');\n",
    "plt.ylim([0, 1]);\n",
    "plt.xlabel('test SF (c/deg)');\n",
    "plt.ylabel('proportion \"test\" higher SF');\n",
    "plt.legend((pts[0], refSFline[0], pse[0], pmf[0]), ('subject responses', 'reference SF', 'PSE', 'fit pmf'));\n",
    "plt.title('PMF for test contrast: ' + str(conVals[whichCon]));"
   ]
  },
  {
   "cell_type": "code",
   "execution_count": null,
   "metadata": {
    "collapsed": true
   },
   "outputs": [],
   "source": [
    "# was the subject correct?\n",
    "corr1 = s1g & (allResp == stim1)\n",
    "corr2 = s2g & (allResp == stim2)\n",
    "corrOvr = corr1 | corr2"
   ]
  },
  {
   "cell_type": "code",
   "execution_count": null,
   "metadata": {
    "collapsed": false
   },
   "outputs": [],
   "source": [
    "testCons = np.zeros(data.shape[0])\n",
    "testCons[ref==1] = data[ref==1, nInd+conIdx];\n",
    "testCons[ref==2] = data[ref==2, conIdx];"
   ]
  },
  {
   "cell_type": "code",
   "execution_count": null,
   "metadata": {
    "collapsed": false
   },
   "outputs": [],
   "source": [
    "pCon = np.zeros(len(conVals))\n",
    "for con in range(len(conVals)):\n",
    "    pCon[con] = sum(corrOvr[testCons == conVals[con]]) / sum(testCons==conVals[con])"
   ]
  },
  {
   "cell_type": "code",
   "execution_count": null,
   "metadata": {
    "collapsed": true
   },
   "outputs": [],
   "source": [
    "testSfs = np.zeros(data.shape[0])\n",
    "testSfs[ref==1] = data[ref==1, nInd+sfIdx];\n",
    "testSfs[ref==2] = data[ref==2, sfIdx];"
   ]
  },
  {
   "cell_type": "code",
   "execution_count": null,
   "metadata": {
    "collapsed": true
   },
   "outputs": [],
   "source": [
    "pSf = np.zeros(len(sfVals))\n",
    "for sf in range(len(sfVals)):\n",
    "    pSf[sf] = sum(corrOvr[testSfs == sfVals[sf]]) / sum(testSfs==sfVals[sf])"
   ]
  },
  {
   "cell_type": "code",
   "execution_count": 80,
   "metadata": {
    "collapsed": false
   },
   "outputs": [
    {
     "data": {
      "text/plain": [
       "array([ 0.15384615,  0.        ,  0.        ,  0.22222222,  0.4       ,\n",
       "        0.66666667,  1.        ,  1.        ,  1.        ])"
      ]
     },
     "execution_count": 80,
     "metadata": {},
     "output_type": "execute_result"
    }
   ],
   "source": [
    "ptSf[0]"
   ]
  }
 ],
 "metadata": {
  "kernelspec": {
   "display_name": "Python 3",
   "language": "python",
   "name": "python3"
  },
  "language_info": {
   "codemirror_mode": {
    "name": "ipython",
    "version": 3
   },
   "file_extension": ".py",
   "mimetype": "text/x-python",
   "name": "python",
   "nbconvert_exporter": "python",
   "pygments_lexer": "ipython3",
   "version": "3.6.0"
  }
 },
 "nbformat": 4,
 "nbformat_minor": 2
}
