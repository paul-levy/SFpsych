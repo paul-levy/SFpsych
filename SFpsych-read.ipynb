{
 "cells": [
  {
   "cell_type": "code",
   "execution_count": 118,
   "metadata": {
    "collapsed": false
   },
   "outputs": [],
   "source": [
    "import numpy as np\n",
    "import matplotlib \n",
    "import matplotlib.pyplot as plt\n",
    "%matplotlib inline"
   ]
  },
  {
   "cell_type": "code",
   "execution_count": 17,
   "metadata": {
    "collapsed": true
   },
   "outputs": [],
   "source": [
    "dFile = 'data/sfPer_s1_p1.txt';\n",
    "sfIdx = 0;\n",
    "conIdx = 1;\n",
    "dispIdx = 2;\n",
    "nInd = 3; # 3 indices per stimulus; add 3 to all of the above indices to get the equivalent value for the second stimulus\n",
    "subjRespIdx = 2*nInd;"
   ]
  },
  {
   "cell_type": "code",
   "execution_count": 18,
   "metadata": {
    "collapsed": true
   },
   "outputs": [],
   "source": [
    "stim1 = 39; stim2 = 41; # subject responses (asked which stimulus has higher SF)"
   ]
  },
  {
   "cell_type": "code",
   "execution_count": 61,
   "metadata": {
    "collapsed": true
   },
   "outputs": [],
   "source": [
    "data = np.loadtxt(dFile); # nTrials x subjRespIdx\n",
    "\n",
    "sfVals = np.union1d(np.unique(data[:, sfIdx]), np.unique(data[:, sfIdx+nInd]))\n",
    "conVals = np.union1d(np.unique(data[:, conIdx]), np.unique(data[:, conIdx+nInd]))\n",
    "dispVals = np.union1d(np.unique(data[:, dispIdx]), np.unique(data[:, dispIdx+nInd]))"
   ]
  },
  {
   "cell_type": "code",
   "execution_count": 33,
   "metadata": {
    "collapsed": false
   },
   "outputs": [],
   "source": [
    "allResp = data[:, subjRespIdx];\n",
    "if any((allResp != stim1) & (allResp != stim2)):\n",
    "    print('Problem: response which is neither 1 or 2')"
   ]
  },
  {
   "cell_type": "code",
   "execution_count": 36,
   "metadata": {
    "collapsed": true
   },
   "outputs": [],
   "source": [
    "s1g = data[:, sfIdx] > data[:, sfIdx+nInd];\n",
    "s2g = data[:, sfIdx] < data[:, sfIdx+nInd]"
   ]
  },
  {
   "cell_type": "code",
   "execution_count": 127,
   "metadata": {
    "collapsed": false
   },
   "outputs": [],
   "source": [
    "# find which one is the reference (as opposed to test) grating\n",
    "# there should really just be an indicator which tells you which is reference\n",
    "ref = np.zeros(data.shape[0])\n",
    "refSF = 4; refCon = 1;\n",
    "ref[(data[:, sfIdx] == refSF) & (data[:, conIdx] == refCon)] = 1\n",
    "ref[(data[:, nInd+sfIdx] == 4) & (data[:, nInd+conIdx] == 1)] = 2;"
   ]
  },
  {
   "cell_type": "code",
   "execution_count": 109,
   "metadata": {
    "collapsed": false
   },
   "outputs": [],
   "source": [
    "# did the subject perceive the test as higher SF?\n",
    "testHF = np.zeros(data.shape[0]);\n",
    "testHF[ref==1] = data[ref==1, subjRespIdx] == stim2;\n",
    "testHF[ref==2] = data[ref==2, subjRespIdx] == stim1;"
   ]
  },
  {
   "cell_type": "code",
   "execution_count": 111,
   "metadata": {
    "collapsed": true
   },
   "outputs": [],
   "source": [
    "testSfs = np.zeros(data.shape[0])\n",
    "testSfs[ref==1] = data[ref==1, nInd+sfIdx];\n",
    "testSfs[ref==2] = data[ref==2, sfIdx];"
   ]
  },
  {
   "cell_type": "code",
   "execution_count": 112,
   "metadata": {
    "collapsed": true
   },
   "outputs": [],
   "source": [
    "ptSf = np.zeros(len(sfVals))\n",
    "for sf in range(len(sfVals)):\n",
    "    ptSf[sf] = sum(testHF[testSfs == sfVals[sf]]) / sum(testSfs==sfVals[sf])"
   ]
  },
  {
   "cell_type": "code",
   "execution_count": 137,
   "metadata": {
    "collapsed": false
   },
   "outputs": [
    {
     "data": {
      "image/png": "[encoded data removed]",
      "text/plain": [
       "<matplotlib.figure.Figure at 0x10cdb0320>"
      ]
     },
     "metadata": {},
     "output_type": "display_data"
    }
   ],
   "source": [
    "# now plot the PMF\n",
    "pts = plt.semilogx(sfVals, ptSf, 'o'); ref= plt.semilogx([refSF, refSF], [0, 1], '--'); \n",
    "pse = plt.semilogx([sfVals[0], sfVals[-1]], [0.5, 0.5], '--')\n",
    "plt.ylim([0, 1]);\n",
    "plt.xlabel('test SF (c/deg)');\n",
    "plt.ylabel('proportion \"test\" higher SF');\n",
    "plt.legend((pts[0], ref[0], pse[0]), ('subject responses', 'reference SF', 'PSE'));"
   ]
  },
  {
   "cell_type": "code",
   "execution_count": null,
   "metadata": {
    "collapsed": true
   },
   "outputs": [],
   "source": []
  },
  {
   "cell_type": "code",
   "execution_count": 65,
   "metadata": {
    "collapsed": true
   },
   "outputs": [],
   "source": [
    "# was the subject correct?\n",
    "corr1 = s1g & (allResp == stim1)\n",
    "corr2 = s2g & (allResp == stim2)\n",
    "corrOvr = corr1 | corr2"
   ]
  },
  {
   "cell_type": "code",
   "execution_count": 99,
   "metadata": {
    "collapsed": false
   },
   "outputs": [],
   "source": [
    "testCons = np.zeros(data.shape[0])\n",
    "testCons[ref==1] = data[ref==1, nInd+conIdx];\n",
    "testCons[ref==2] = data[ref==2, conIdx];"
   ]
  },
  {
   "cell_type": "code",
   "execution_count": 93,
   "metadata": {
    "collapsed": false
   },
   "outputs": [],
   "source": [
    "pCon = np.zeros(len(conVals))\n",
    "for con in range(len(conVals)):\n",
    "    pCon[con] = sum(corrOvr[testCons == conVals[con]]) / sum(testCons==conVals[con])"
   ]
  },
  {
   "cell_type": "code",
   "execution_count": 95,
   "metadata": {
    "collapsed": true
   },
   "outputs": [],
   "source": [
    "testSfs = np.zeros(data.shape[0])\n",
    "testSfs[ref==1] = data[ref==1, nInd+sfIdx];\n",
    "testSfs[ref==2] = data[ref==2, sfIdx];"
   ]
  },
  {
   "cell_type": "code",
   "execution_count": 96,
   "metadata": {
    "collapsed": true
   },
   "outputs": [],
   "source": [
    "pSf = np.zeros(len(sfVals))\n",
    "for sf in range(len(sfVals)):\n",
    "    pSf[sf] = sum(corrOvr[testSfs == sfVals[sf]]) / sum(testSfs==sfVals[sf])"
   ]
  },
  {
   "cell_type": "code",
   "execution_count": 97,
   "metadata": {
    "collapsed": false
   },
   "outputs": [
    {
     "data": {
      "text/plain": [
       "array([ 0.85      ,  0.58823529,  0.83333333,  0.57894737,  0.        ,\n",
       "        0.58333333,  0.82352941,  0.85714286,  0.84615385])"
      ]
     },
     "execution_count": 97,
     "metadata": {},
     "output_type": "execute_result"
    }
   ],
   "source": [
    "pSf"
   ]
  },
  {
   "cell_type": "code",
   "execution_count": null,
   "metadata": {
    "collapsed": true
   },
   "outputs": [],
   "source": []
  }
 ],
 "metadata": {
  "kernelspec": {
   "display_name": "Python 3",
   "language": "python",
   "name": "python3"
  },
  "language_info": {
   "codemirror_mode": {
    "name": "ipython",
    "version": 3
   },
   "file_extension": ".py",
   "mimetype": "text/x-python",
   "name": "python",
   "nbconvert_exporter": "python",
   "pygments_lexer": "ipython3",
   "version": "3.6.0"
  }
 },
 "nbformat": 4,
 "nbformat_minor": 2
}
