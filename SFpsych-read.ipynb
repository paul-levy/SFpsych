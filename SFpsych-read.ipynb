{
 "cells": [
  {
   "cell_type": "code",
   "execution_count": 1,
   "metadata": {
    "collapsed": false
   },
   "outputs": [],
   "source": [
    "import numpy as np\n",
    "import matplotlib \n",
    "import matplotlib.pyplot as plt\n",
    "import helper_fcns as hlp\n",
    "import autoreload\n",
    "from scipy.stats import norm\n",
    "matplotlib.style.use('plt_style.mplstyle')\n",
    "%matplotlib inline"
   ]
  },
  {
   "cell_type": "code",
   "execution_count": 2,
   "metadata": {
    "collapsed": true
   },
   "outputs": [],
   "source": [
    "dataDir = 'data/';\n",
    "whichFiles = 'toAnalyze.txt';\n",
    "dataList = open(dataDir + whichFiles, 'r')\n",
    "dFiles = dataList.readlines(-1)\n",
    "dFiles = [x.strip('\\n') for x in dFiles]\n",
    "dataList.close()"
   ]
  },
  {
   "cell_type": "code",
   "execution_count": 3,
   "metadata": {
    "collapsed": false
   },
   "outputs": [],
   "source": [
    "dFiles = dFiles[5:] # ignore the first 4 sessions - early training"
   ]
  },
  {
   "cell_type": "code",
   "execution_count": 4,
   "metadata": {
    "collapsed": true
   },
   "outputs": [],
   "source": [
    "sfIdx = 0;\n",
    "conIdx = 1;\n",
    "dispIdx = 2;\n",
    "nInd = 3; # 3 indices per stimulus; add 3 to all of the above indices to get the equivalent value for the second stimulus\n",
    "subjRespIdx = 2*nInd;\n",
    "refIdx = subjRespIdx + 1; # which interval contained reference is after the subject's response in the data format"
   ]
  },
  {
   "cell_type": "code",
   "execution_count": 5,
   "metadata": {
    "collapsed": true
   },
   "outputs": [],
   "source": [
    "stim1 = 39; stim2 = 41; # subject responses (asked which stimulus has higher SF)"
   ]
  },
  {
   "cell_type": "code",
   "execution_count": 6,
   "metadata": {
    "collapsed": false
   },
   "outputs": [],
   "source": [
    "data = [];\n",
    "for df in dFiles:\n",
    "    currData = np.loadtxt(dataDir + df);\n",
    "    if df == dFiles[0]:\n",
    "        data = currData;\n",
    "    else:\n",
    "        data = np.concatenate((data, currData), axis = 0);\n",
    "\n",
    "sfVals = np.union1d(np.unique(data[:, sfIdx]), np.unique(data[:, sfIdx+nInd]))\n",
    "conVals = np.union1d(np.unique(data[:, conIdx]), np.unique(data[:, conIdx+nInd]))\n",
    "dispVals = np.union1d(np.unique(data[:, dispIdx]), np.unique(data[:, dispIdx+nInd]))"
   ]
  },
  {
   "cell_type": "code",
   "execution_count": 7,
   "metadata": {
    "collapsed": false
   },
   "outputs": [],
   "source": [
    "allResp = data[:, subjRespIdx];\n",
    "if any((allResp != stim1) & (allResp != stim2)):\n",
    "    print('Problem: response which is neither 1 or 2')"
   ]
  },
  {
   "cell_type": "code",
   "execution_count": 8,
   "metadata": {
    "collapsed": true
   },
   "outputs": [],
   "source": [
    "s1g = data[:, sfIdx] > data[:, sfIdx+nInd];\n",
    "s2g = data[:, sfIdx] < data[:, sfIdx+nInd]"
   ]
  },
  {
   "cell_type": "code",
   "execution_count": 9,
   "metadata": {
    "collapsed": false
   },
   "outputs": [],
   "source": [
    "# find which one is the reference (as opposed to test) grating\n",
    "# there should really just be an indicator which tells you which is reference\n",
    "ref = np.zeros(data.shape[0])\n",
    "refSF = 3; refCon = 1;\n",
    "ref[(data[:, sfIdx] == refSF) & (data[:, conIdx] == refCon)] = 1\n",
    "ref[(data[:, nInd+sfIdx] == 4) & (data[:, nInd+conIdx] == 1)] = 2;"
   ]
  },
  {
   "cell_type": "code",
   "execution_count": 10,
   "metadata": {
    "collapsed": false
   },
   "outputs": [],
   "source": [
    "# did the subject perceive the test as higher SF?\n",
    "testHF = np.zeros(data.shape[0]);\n",
    "testHF[ref==1] = data[ref==1, subjRespIdx] == stim2;\n",
    "testHF[ref==2] = data[ref==2, subjRespIdx] == stim1;"
   ]
  },
  {
   "cell_type": "code",
   "execution_count": 11,
   "metadata": {
    "collapsed": false
   },
   "outputs": [],
   "source": [
    "testCons = np.zeros(data.shape[0])\n",
    "testCons[ref==1] = data[ref==1, nInd+conIdx];\n",
    "testCons[ref==2] = data[ref==2, conIdx];"
   ]
  },
  {
   "cell_type": "code",
   "execution_count": 12,
   "metadata": {
    "collapsed": true
   },
   "outputs": [],
   "source": [
    "testSfs = np.zeros(data.shape[0])\n",
    "testSfs[ref==1] = data[ref==1, nInd+sfIdx];\n",
    "testSfs[ref==2] = data[ref==2, sfIdx];"
   ]
  },
  {
   "cell_type": "code",
   "execution_count": 13,
   "metadata": {
    "collapsed": false
   },
   "outputs": [],
   "source": [
    "# data analysis - number of trials/responses \"test>ref sf\", fraction \"test>ref\" split by sf/con\n",
    "ptSf, nTr, nTestResp = (np.zeros((len(conVals), len(sfVals))) for _ in range(3));\n",
    "for con in range(len(conVals)):\n",
    "    for sf in range(len(sfVals)):\n",
    "        z = (testSfs == sfVals[sf]) & (testCons == conVals[con]) # get trials with the desired test sf/con\n",
    "        nTr[con][sf] = sum(z); # how many trials in this configuration\n",
    "        nTestResp[con][sf] = sum(testHF[z]) # how many trials in this configuration with response \"test > ref sf\"\n",
    "        ptSf[con][sf] = nTestResp[con][sf] / nTr[con][sf]"
   ]
  },
  {
   "cell_type": "code",
   "execution_count": 14,
   "metadata": {
    "collapsed": false
   },
   "outputs": [],
   "source": [
    "# optimize and bootstrap\n",
    "nFits = 5; # don't think you really need multistart, but good to have flexibility\n",
    "bootIter = 100; # set to 0 for no bootstrap\n",
    "nParams = 4;\n",
    "bootTestResps = np.zeros((len(conVals), len(nTestResp[0]), bootIter))\n",
    "params = np.zeros((len(conVals), nParams));\n",
    "loss = np.zeros((len(conVals), 1)); # only one loss value...\n",
    "paramsBoot = np.zeros((len(conVals), nParams, bootIter));\n",
    "\n",
    "for c in range(len(conVals)):\n",
    "    opt = hlp.opt_pmf(sfVals, nTestResp[c], nTr[c], norm.cdf, nFits)\n",
    "    params[c, :] = opt['x'];\n",
    "    loss[c] = opt['fun'];\n",
    "    \n",
    "    for iter in range(bootIter):\n",
    "        bootTestResps[c, :, iter] = np.random.binomial(nTr.astype('int64')[c], ptSf[c])\n",
    "        optBoot = hlp.opt_pmf(sfVals, bootTestResps[c, :, iter], nTr[c], norm.cdf, 1)\n",
    "        paramsBoot[c, :, iter] = optBoot['x'];"
   ]
  },
  {
   "cell_type": "code",
   "execution_count": 15,
   "metadata": {
    "collapsed": true
   },
   "outputs": [],
   "source": [
    "# compute from bootstrap values...\n",
    "bootParamMean = paramsBoot.mean(-1);\n",
    "bootParamStd = paramsBoot.std(-1);\n",
    "\n",
    "# reshape number of trials by con/sf so we can get bootstrap estimates of subject's proportion responses \"test>ref\"\n",
    "bootPtSf = bootTestResps / np.repeat(nTr.reshape((len(conVals), len(nTestResp[0]), 1)), 100, axis=-1); \n",
    "bootPtSfmean = bootPtSf.mean(-1);\n",
    "bootPtSfstd = bootPtSf.std(-1);"
   ]
  },
  {
   "cell_type": "code",
   "execution_count": 16,
   "metadata": {
    "collapsed": false
   },
   "outputs": [
    {
     "data": {
      "text/plain": [
       "array([[ 2.57346386,  0.55379843,  0.        ,  0.        ],\n",
       "       [ 2.78231899,  0.25      ,  0.08741004,  0.04394948],\n",
       "       [ 2.70302461,  0.5788058 ,  0.04919842,  0.0117098 ],\n",
       "       [ 2.87411306,  0.52760627,  0.09443608,  0.01551584]])"
      ]
     },
     "execution_count": 16,
     "metadata": {},
     "output_type": "execute_result"
    }
   ],
   "source": [
    "params"
   ]
  },
  {
   "cell_type": "code",
   "execution_count": 21,
   "metadata": {
    "collapsed": false
   },
   "outputs": [
    {
     "data": {
      "image/png": "[encoded data removed]",
      "text/plain": [
       "<matplotlib.figure.Figure at 0x11569cf28>"
      ]
     },
     "metadata": {},
     "output_type": "display_data"
    }
   ],
   "source": [
    "# now plot the PMF\n",
    "whichCon = 3;\n",
    "x = np.arange(sfVals[0], sfVals[-1], 0.1)\n",
    "true_pmf = lambda params: params[2] + (1-params[2]-params[3])*norm.cdf(x, *params[0:2])\n",
    "\n",
    "pts = plt.errorbar(sfVals, ptSf[whichCon], yerr=bootPtSfstd[whichCon, :], clip_on=False, linestyle='none', marker='o');\n",
    "refSFline = plt.semilogx([refSF, refSF], [0, 1], '--'); \n",
    "pse = plt.semilogx([sfVals[0], sfVals[-1]], [0.5, 0.5], '--')\n",
    "pmf = plt.semilogx(x, true_pmf(params[whichCon, :]), '-');\n",
    "plt.ylim([0, 1]);\n",
    "plt.xlabel('test SF (c/deg)');\n",
    "plt.ylabel('proportion \"test\" higher SF');\n",
    "plt.legend((pts[0], refSFline[0], pse[0], pmf[0]), ('subject responses', 'reference SF', 'PSE', 'fit pmf'));\n",
    "plt.title('PMF for test contrast: ' + str(conVals[whichCon]));"
   ]
  },
  {
   "cell_type": "code",
   "execution_count": null,
   "metadata": {
    "collapsed": true
   },
   "outputs": [],
   "source": [
    "# was the subject correct?\n",
    "corr1 = s1g & (allResp == stim1)\n",
    "corr2 = s2g & (allResp == stim2)\n",
    "corrOvr = corr1 | corr2"
   ]
  },
  {
   "cell_type": "code",
   "execution_count": null,
   "metadata": {
    "collapsed": false
   },
   "outputs": [],
   "source": [
    "testCons = np.zeros(data.shape[0])\n",
    "testCons[ref==1] = data[ref==1, nInd+conIdx];\n",
    "testCons[ref==2] = data[ref==2, conIdx];"
   ]
  },
  {
   "cell_type": "code",
   "execution_count": null,
   "metadata": {
    "collapsed": false
   },
   "outputs": [],
   "source": [
    "pCon = np.zeros(len(conVals))\n",
    "for con in range(len(conVals)):\n",
    "    pCon[con] = sum(corrOvr[testCons == conVals[con]]) / sum(testCons==conVals[con])"
   ]
  },
  {
   "cell_type": "code",
   "execution_count": null,
   "metadata": {
    "collapsed": true
   },
   "outputs": [],
   "source": [
    "testSfs = np.zeros(data.shape[0])\n",
    "testSfs[ref==1] = data[ref==1, nInd+sfIdx];\n",
    "testSfs[ref==2] = data[ref==2, sfIdx];"
   ]
  },
  {
   "cell_type": "code",
   "execution_count": null,
   "metadata": {
    "collapsed": true
   },
   "outputs": [],
   "source": [
    "pSf = np.zeros(len(sfVals))\n",
    "for sf in range(len(sfVals)):\n",
    "    pSf[sf] = sum(corrOvr[testSfs == sfVals[sf]]) / sum(testSfs==sfVals[sf])"
   ]
  },
  {
   "cell_type": "code",
   "execution_count": null,
   "metadata": {
    "collapsed": false
   },
   "outputs": [],
   "source": [
    "ptSf[0]"
   ]
  }
 ],
 "metadata": {
  "kernelspec": {
   "display_name": "Python 3",
   "language": "python",
   "name": "python3"
  },
  "language_info": {
   "codemirror_mode": {
    "name": "ipython",
    "version": 3
   },
   "file_extension": ".py",
   "mimetype": "text/x-python",
   "name": "python",
   "nbconvert_exporter": "python",
   "pygments_lexer": "ipython3",
   "version": "3.6.0"
  }
 },
 "nbformat": 4,
 "nbformat_minor": 2
}
